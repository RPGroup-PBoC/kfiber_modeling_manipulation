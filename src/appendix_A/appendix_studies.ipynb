{
 "cells": [
  {
   "cell_type": "code",
   "execution_count": 1,
   "metadata": {},
   "outputs": [],
   "source": [
    "import numpy as np\n",
    "import matplotlib.pyplot as plt\n",
    "\n",
    "import sys\n",
    "sys.path.append('../')\n",
    "from functions import *"
   ]
  },
  {
   "cell_type": "code",
   "execution_count": 2,
   "metadata": {},
   "outputs": [],
   "source": [
    "def deflection(x, Mp, Fx, L):\n",
    "    \"\"\"\n",
    "    Deflection profile of the k-fiber, given\n",
    "    a moment at the pole and an axial force.\n",
    "    \"\"\"\n",
    "    k = np.sqrt(Fx)\n",
    "    y = np.sin(k*(L-x))/np.sin(k*L) - (L-x)/L\n",
    "    y *= Mp/Fx\n",
    "    return y"
   ]
  },
  {
   "cell_type": "code",
   "execution_count": 3,
   "metadata": {},
   "outputs": [],
   "source": [
    "def find_Mp(y_target, Fx, L, Mp_min = 0, Mp_max = 1e3):\n",
    "    \"\"\"\n",
    "    For a given axial force `Fx`, recursively finds \n",
    "    the corresponding moment at the pole Mp that yields \n",
    "    the target maximum y-deflection `y_target`.\n",
    "    \"\"\"\n",
    "    x = np.linspace(0, L, 100)\n",
    "    \n",
    "    Mp_avg = 0.5*(Mp_min + Mp_max)\n",
    "    y = deflection(x, Mp_avg, Fx, L)\n",
    "    y_avg = y.max()\n",
    "    \n",
    "    if np.abs(y_avg-y_target)/y_target < 1e-3:\n",
    "        return Mp_avg\n",
    "    \n",
    "    y = deflection(x, Mp_min, Fx, L)\n",
    "    y_min = y.max()\n",
    "    \n",
    "    y = deflection(x, Mp_max, Fx, L)\n",
    "    y_max = y.max()\n",
    "    \n",
    "    if y_avg > y_target:\n",
    "        return find_Mp(y_target, Fx, L, Mp_min = Mp_min, Mp_max = Mp_avg)\n",
    "    else:\n",
    "        return find_Mp(y_target, Fx, L, Mp_min = Mp_avg, Mp_max = Mp_max)"
   ]
  },
  {
   "cell_type": "markdown",
   "metadata": {},
   "source": [
    "### Fixed $y_{max}$ studies"
   ]
  },
  {
   "cell_type": "code",
   "execution_count": 4,
   "metadata": {},
   "outputs": [],
   "source": [
    "L = 10 # End-to-end distance\n",
    "y_target = 0.1*L # Fixed y_{max}\n",
    "Fc = np.pi**2/L**2 # Critical buckling force\n",
    "\n",
    "# Range of axial forces\n",
    "Fx_ls = np.logspace(-3, -0.001, 100)*Fc\n",
    "\n",
    "# Corresponding moments at the pole\n",
    "Mp_ls = np.zeros_like(Fx_ls)\n",
    "\n",
    "# Corresponding x-positions of the peak\n",
    "x_peak_ls = np.zeros_like(Fx_ls)\n",
    "\n",
    "# List of x-coordinates to find x_{peak}\n",
    "x = np.linspace(0, L, 10000)\n",
    "\n",
    "for i in range(len(Fx_ls)):\n",
    "    Fx = Fx_ls[i]\n",
    "    Mp_ls[i] = find_Mp(y_target, Fx, L)\n",
    "    \n",
    "    y = deflection(x, Mp_ls[i], Fx, L)\n",
    "    x_peak = x[np.where(y==y.max())[0][0]]\n",
    "    x_peak_ls[i] = x_peak"
   ]
  },
  {
   "cell_type": "code",
   "execution_count": 5,
   "metadata": {},
   "outputs": [
    {
     "data": {
      "image/png": "[encoded data removed]",
      "text/plain": [
       "<Figure size 432x288 with 1 Axes>"
      ]
     },
     "metadata": {
      "needs_background": "light"
     },
     "output_type": "display_data"
    }
   ],
   "source": [
    "plt.plot(Fx_ls/Fc, Mp_ls/Mp_ls[0], color='k')\n",
    "plt.xlabel(r'$F_x/F_c$', fontsize=14)\n",
    "plt.ylabel(r'$M_p/M_0$', fontsize=14)\n",
    "plt.savefig('Mp_Fx_dependence.eps')\n",
    "plt.show()"
   ]
  },
  {
   "cell_type": "code",
   "execution_count": 6,
   "metadata": {},
   "outputs": [
    {
     "data": {
      "image/png": "[encoded data removed]",
      "text/plain": [
       "<Figure size 432x288 with 1 Axes>"
      ]
     },
     "metadata": {
      "needs_background": "light"
     },
     "output_type": "display_data"
    }
   ],
   "source": [
    "plt.plot(Fx_ls/Fc, x_peak_ls/L, color='k')\n",
    "plt.xlabel(r'$F_x/F_c$', fontsize=14)\n",
    "plt.ylabel(r'$x_{\\rm peak}\\,/\\,L$', fontsize=14)\n",
    "plt.savefig('xpeak_Fx_dependence.eps')\n",
    "plt.show()"
   ]
  },
  {
   "cell_type": "markdown",
   "metadata": {},
   "source": [
    "### $L$-dependence studies"
   ]
  },
  {
   "cell_type": "code",
   "execution_count": 7,
   "metadata": {},
   "outputs": [],
   "source": [
    "def give_L(Mp, Fx, Lc, Lmin, Lmax):\n",
    "    \"\"\"\n",
    "    Gives the k-fiber's end-to-end distance L corresponding\n",
    "    to the specified contour length Lc when the k-fiber\n",
    "    is deflected under the influence of forces Mp and Fx.\n",
    "    \"\"\"\n",
    "    x = np.linspace(0, Lmin, 100)\n",
    "    y = deflection(x, Mp, Fx, Lmin)\n",
    "    _, Lc_min = contour_fn(x,y)\n",
    "    \n",
    "    x = np.linspace(0, Lmax, 100)\n",
    "    y = deflection(x, Mp, Fx, Lmax)\n",
    "    _, Lc_max = contour_fn(x,y)\n",
    "    \n",
    "    L_avg = 0.5*(Lmin + Lmax)\n",
    "    x = np.linspace(0, L_avg, 100)\n",
    "    y = deflection(x, Mp, Fx, L_avg)\n",
    "    _, Lc_avg = contour_fn(x,y)\n",
    "    \n",
    "    if np.abs(Lc - Lc_avg)/Lc < 1e-3:\n",
    "        return L_avg\n",
    "    \n",
    "    if Lc_avg < Lc:\n",
    "        return give_L(Mp, Fx, Lc, L_avg, Lmax)\n",
    "    else:\n",
    "        return give_L(Mp, Fx, Lc, Lmin, L_avg)"
   ]
  },
  {
   "cell_type": "code",
   "execution_count": 8,
   "metadata": {},
   "outputs": [],
   "source": [
    "Mp = 0.114\n",
    "Mp_sem = 0.00977\n",
    "\n",
    "Fx = 0.084\n",
    "Fx_sem = 0.0134\n",
    "\n",
    "d_PP = 16.27\n",
    "d_PP_sem = 0.778\n",
    "\n",
    "Lc_over_PP_ls = [0.36121701006337253, 0.4092583918713443, 0.4467934504154682, 0.45914101430336823]\n",
    "Lc_over_PP_sem_ls = [0.014627642401244093, 0.02310415119074849, 0.010695719226981289, 0.019395623329532832]\n",
    "\n",
    "ymax_norm_ls = []\n",
    "bin_ls = []\n",
    "L_ls = []\n",
    "for i in range(len(Lc_over_PP_ls)):\n",
    "    \n",
    "    for _ in range(200):\n",
    "        \n",
    "        d_PPP = d_PP + np.random.normal(0, d_PP_sem)\n",
    "        Lc_over_PPP = Lc_over_PP_ls[i] + np.random.normal(0, Lc_over_PP_sem_ls[i])\n",
    "        Lcc = Lc_over_PPP * d_PPP\n",
    "        Mpp = Mp + np.random.normal(0, Mp_sem)\n",
    "        Fxx = Fx + np.random.normal(0, Fx_sem)\n",
    "        \n",
    "        L = give_L(Mpp, Fxx, Lcc, 0.5*Lcc, Lcc)\n",
    "\n",
    "        x = np.linspace(0, L, 100)\n",
    "        y = deflection(x, Mpp, Fxx, L)\n",
    "\n",
    "        ymax_norm_ls.append(max(y)/L)\n",
    "        bin_ls.append(i)\n",
    "        L_ls.append(L)\n",
    "        \n",
    "L_ls = np.array(L_ls)\n",
    "ymax_norm_ls = np.array(ymax_norm_ls)\n",
    "bin_ls = np.array(bin_ls)"
   ]
  },
  {
   "cell_type": "code",
   "execution_count": 9,
   "metadata": {},
   "outputs": [
    {
     "data": {
      "image/png": "[encoded data removed]",
      "text/plain": [
       "<Figure size 432x324 with 1 Axes>"
      ]
     },
     "metadata": {
      "needs_background": "light"
     },
     "output_type": "display_data"
    }
   ],
   "source": [
    "plt.figure(figsize=(6,4.5))\n",
    "\n",
    "bins = [0, 1, 2, 3]\n",
    "data = [0.06028212, 0.07429598, 0.08728503, 0.10509759]\n",
    "data_sem = [0.00508414, 0.00956137, 0.00496703, 0.0111602]\n",
    "\n",
    "plt.scatter([0.06 + b for b in bin_ls], ymax_norm_ls, 40, alpha=0.02)\n",
    "plt.scatter([b - 0.06 for b in bins], data, 60, color='k')\n",
    "plt.errorbar([b - 0.06 for b in bins], data, yerr=data_sem, color='k', fmt='o', capsize=5)\n",
    "\n",
    "for b in bins:\n",
    "    y_set = ymax_norm_ls[bin_ls == b]\n",
    "    plt.scatter(b+0.06, np.mean(y_set), 50, color='b')\n",
    "    plt.errorbar(b+0.06, np.mean(y_set), yerr = np.std(y_set), color='b', fmt='o-', capsize=5)\n",
    "\n",
    "# plt.xlabel('Angle bin (°)', fontsize=14)\n",
    "# plt.ylabel(r'Largest y-deflection, $y_{\\rm max}/L$', fontsize=14)\n",
    "plt.xticks([0, 1, 2, 3], ['0-10', '10-20', '20-30', '30-40'], fontsize=14)\n",
    "plt.yticks(fontsize=14)\n",
    "plt.ylim([0, 1.3*max(data)])\n",
    "plt.tight_layout()\n",
    "\n",
    "plt.savefig('y_max_trends.pdf')\n",
    "plt.show()"
   ]
  },
  {
   "cell_type": "code",
   "execution_count": null,
   "metadata": {},
   "outputs": [],
   "source": []
  }
 ],
 "metadata": {
  "kernelspec": {
   "display_name": "Python 3",
   "language": "python",
   "name": "python3"
  },
  "language_info": {
   "codemirror_mode": {
    "name": "ipython",
    "version": 3
   },
   "file_extension": ".py",
   "mimetype": "text/x-python",
   "name": "python",
   "nbconvert_exporter": "python",
   "pygments_lexer": "ipython3",
   "version": "3.7.7"
  }
 },
 "nbformat": 4,
 "nbformat_minor": 5
}
