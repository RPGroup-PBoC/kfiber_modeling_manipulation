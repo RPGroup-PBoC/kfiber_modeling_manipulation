{
 "cells": [
  {
   "cell_type": "code",
   "execution_count": 1,
   "metadata": {},
   "outputs": [],
   "source": [
    "import numpy as np\n",
    "import matplotlib.pyplot as plt\n",
    "import numba\n",
    "from tqdm.notebook import tqdm"
   ]
  },
  {
   "cell_type": "code",
   "execution_count": 2,
   "metadata": {},
   "outputs": [],
   "source": [
    "@numba.njit\n",
    "def mesh_jit(x_arr, y_arr):\n",
    "\n",
    "    nrow = len(y_arr)\n",
    "    ncol = len(x_arr)\n",
    "    mesh1 = np.zeros((nrow, ncol))\n",
    "    mesh1[:,:] = x_arr\n",
    "\n",
    "    mesh2 = np.zeros((ncol, nrow))\n",
    "    mesh2[:,:] = y_arr\n",
    "    mesh2 = np.transpose(mesh2)\n",
    "    \n",
    "    return mesh1, mesh2\n",
    "\n",
    "@numba.njit\n",
    "def min_axis1_jit(x):\n",
    "    n, m = x.shape\n",
    "    min_arr = np.zeros(n)\n",
    "    min_loc = np.zeros(n)\n",
    "    for i in range(n):\n",
    "        min_arr[i] = np.min(x[i,:])\n",
    "        for j in range(m):\n",
    "            if x[i,j] == min_arr[i]:\n",
    "                min_loc[i] = j\n",
    "                break\n",
    "    return min_arr, min_loc\n",
    "\n",
    "@numba.njit\n",
    "def distances_pair_min(x_points, y_points, x_curve, y_curve):\n",
    "    \"\"\"\n",
    "    Finds the lowest pairwise distances between two sets of points.\n",
    "    \n",
    "    Parameters\n",
    "    ----------\n",
    "    x_points : array_like\n",
    "        x-coordinates of points for which we calculate the minimal distances.\n",
    "        \n",
    "    y_points : array_like\n",
    "        y-coordinates of points for which we calculate the minimal distances.\n",
    "        \n",
    "    x_curve : array_like\n",
    "        x-coordinates of the reference set of points.\n",
    "        \n",
    "    y_curve : array_like\n",
    "        y-coordinates of the reference set of points.\n",
    "    \n",
    "    Returns\n",
    "    -------\n",
    "    d_pairwise_min : numpy array\n",
    "        Array of the minimal distances that the pairs {x_points, y_points}\n",
    "        have from the reference pairs {x_curve, y_curve}.\n",
    "        \n",
    "    ind_pairs : numpy array\n",
    "        Indices of the points from the {x_curve, y_curve} set that yield\n",
    "        the minimal distances.\n",
    "    \"\"\"\n",
    "#     x_curve_mat, x_points_mat = np.meshgrid(x_curve, x_points)\n",
    "#     y_curve_mat, y_points_mat = np.meshgrid(y_curve, y_points)\n",
    "    \n",
    "    x_curve_mat, x_points_mat = mesh_jit(x_curve, x_points)\n",
    "    y_curve_mat, y_points_mat = mesh_jit(y_curve, y_points)\n",
    "    \n",
    "    d_pairwise_mat = np.sqrt((x_curve_mat-x_points_mat)**2 + (y_curve_mat-y_points_mat)**2)\n",
    "    \n",
    "    d_pairwise_min, ind_pairs = min_axis1_jit(d_pairwise_mat)\n",
    "#     d_pairwise_min = np.min(d_pairwise_mat, axis=1)\n",
    "#     ind_pairs = np.argmin(d_pairwise_mat, axis=1)\n",
    "    \n",
    "    return d_pairwise_min, ind_pairs"
   ]
  },
  {
   "cell_type": "code",
   "execution_count": 3,
   "metadata": {},
   "outputs": [
    {
     "data": {
      "image/png": "[encoded data removed]",
      "text/plain": [
       "<Figure size 432x288 with 1 Axes>"
      ]
     },
     "metadata": {
      "needs_background": "light"
     },
     "output_type": "display_data"
    }
   ],
   "source": [
    "x_points = np.array([-1.0, 0.5, 2.0])\n",
    "y_points = np.array([ 1.0, 2.0, 3.0])\n",
    "\n",
    "x_curve = np.array([0, 1, 2, 3, 4])\n",
    "y_curve = np.array([0, 0, 0, 0, 0])\n",
    "\n",
    "ell = 1\n",
    "\n",
    "plt.plot(x_curve, y_curve)\n",
    "plt.scatter(x_curve, y_curve)\n",
    "plt.scatter(x_points, y_points, color='r')\n",
    "plt.axis('equal')\n",
    "plt.show()"
   ]
  },
  {
   "cell_type": "code",
   "execution_count": 4,
   "metadata": {},
   "outputs": [
    {
     "data": {
      "text/plain": [
       "array([[1.41421356, 2.23606798, 3.16227766, 4.12310563, 5.09901951],\n",
       "       [2.06155281, 2.06155281, 2.5       , 3.20156212, 4.03112887],\n",
       "       [3.60555128, 3.16227766, 3.        , 3.16227766, 3.60555128]])"
      ]
     },
     "execution_count": 4,
     "metadata": {},
     "output_type": "execute_result"
    }
   ],
   "source": [
    "x_curve_mat, x_points_mat = mesh_jit(x_curve, x_points)\n",
    "y_curve_mat, y_points_mat = mesh_jit(y_curve, y_points)\n",
    "\n",
    "d_pairwise_mat = np.sqrt((x_curve_mat-x_points_mat)**2 + (y_curve_mat-y_points_mat)**2)\n",
    "d_pairwise_mat"
   ]
  },
  {
   "cell_type": "code",
   "execution_count": 5,
   "metadata": {},
   "outputs": [
    {
     "data": {
      "text/plain": [
       "array([[1.41421356, 2.23606798, 3.16227766, 4.12310563],\n",
       "       [2.06155281, 2.06155281, 2.5       , 3.20156212],\n",
       "       [3.60555128, 3.16227766, 3.        , 3.16227766]])"
      ]
     },
     "execution_count": 5,
     "metadata": {},
     "output_type": "execute_result"
    }
   ],
   "source": [
    "d1_mat = d_pairwise_mat[:,0:-1]\n",
    "d1_mat"
   ]
  },
  {
   "cell_type": "code",
   "execution_count": 6,
   "metadata": {},
   "outputs": [
    {
     "data": {
      "text/plain": [
       "array([[2.23606798, 3.16227766, 4.12310563, 5.09901951],\n",
       "       [2.06155281, 2.5       , 3.20156212, 4.03112887],\n",
       "       [3.16227766, 3.        , 3.16227766, 3.60555128]])"
      ]
     },
     "execution_count": 6,
     "metadata": {},
     "output_type": "execute_result"
    }
   ],
   "source": [
    "d2_mat = d_pairwise_mat[:,1:]\n",
    "d2_mat"
   ]
  },
  {
   "cell_type": "code",
   "execution_count": 7,
   "metadata": {},
   "outputs": [
    {
     "data": {
      "text/plain": [
       "array([[ 8.94427191e-01,  9.48683298e-01,  9.70142500e-01,\n",
       "         9.80580676e-01],\n",
       "       [ 2.42535625e-01,  6.00000000e-01,  7.80868809e-01,\n",
       "         8.68243142e-01],\n",
       "       [-3.16227766e-01, -2.96059473e-16,  3.16227766e-01,\n",
       "         5.54700196e-01]])"
      ]
     },
     "execution_count": 7,
     "metadata": {},
     "output_type": "execute_result"
    }
   ],
   "source": [
    "cos1_mat = (d2_mat**2+ell**2-d1_mat**2)/(2*d2_mat*ell)\n",
    "cos1_mat"
   ]
  },
  {
   "cell_type": "code",
   "execution_count": 8,
   "metadata": {},
   "outputs": [
    {
     "data": {
      "text/plain": [
       "array([[-7.07106781e-01, -8.94427191e-01, -9.48683298e-01,\n",
       "        -9.70142500e-01],\n",
       "       [ 2.42535625e-01, -2.42535625e-01, -6.00000000e-01,\n",
       "        -7.80868809e-01],\n",
       "       [ 5.54700196e-01,  3.16227766e-01, -2.96059473e-16,\n",
       "        -3.16227766e-01]])"
      ]
     },
     "execution_count": 8,
     "metadata": {},
     "output_type": "execute_result"
    }
   ],
   "source": [
    "cos2_mat = (d1_mat**2+ell**2-d2_mat**2)/(2*d1_mat*ell)\n",
    "cos2_mat"
   ]
  },
  {
   "cell_type": "code",
   "execution_count": 9,
   "metadata": {},
   "outputs": [
    {
     "data": {
      "text/plain": [
       "array([[-1., -1., -1., -1.],\n",
       "       [ 1., -1., -1., -1.],\n",
       "       [-1., -1., -1., -1.]])"
      ]
     },
     "execution_count": 9,
     "metadata": {},
     "output_type": "execute_result"
    }
   ],
   "source": [
    "np.sign(cos1_mat*cos2_mat)"
   ]
  },
  {
   "cell_type": "code",
   "execution_count": 10,
   "metadata": {},
   "outputs": [
    {
     "data": {
      "text/plain": [
       "array([[0., 0., 0., 0.],\n",
       "       [1., 0., 0., 0.],\n",
       "       [0., 0., 0., 0.]])"
      ]
     },
     "execution_count": 10,
     "metadata": {},
     "output_type": "execute_result"
    }
   ],
   "source": [
    "is_mid = (1+np.sign(cos1_mat*cos2_mat))/2\n",
    "is_mid"
   ]
  },
  {
   "cell_type": "code",
   "execution_count": 11,
   "metadata": {},
   "outputs": [
    {
     "data": {
      "text/plain": [
       "array([[1., 1., 1., 1.],\n",
       "       [0., 1., 1., 1.],\n",
       "       [1., 1., 1., 1.]])"
      ]
     },
     "execution_count": 11,
     "metadata": {},
     "output_type": "execute_result"
    }
   ],
   "source": [
    "is_end = 1-is_mid\n",
    "is_end"
   ]
  },
  {
   "cell_type": "code",
   "execution_count": 12,
   "metadata": {},
   "outputs": [
    {
     "data": {
      "text/plain": [
       "array([[1., 1., 1., 1.],\n",
       "       [2., 2., 2., 2.],\n",
       "       [3., 3., 3., 3.]])"
      ]
     },
     "execution_count": 12,
     "metadata": {},
     "output_type": "execute_result"
    }
   ],
   "source": [
    "d_perp = d2_mat*np.sqrt(1-cos1_mat**2)\n",
    "d_perp"
   ]
  },
  {
   "cell_type": "code",
   "execution_count": 13,
   "metadata": {},
   "outputs": [
    {
     "data": {
      "text/plain": [
       "array([[1.41421356, 2.23606798, 3.16227766, 4.12310563],\n",
       "       [2.06155281, 2.06155281, 2.5       , 3.20156212],\n",
       "       [3.16227766, 3.        , 3.        , 3.16227766]])"
      ]
     },
     "execution_count": 13,
     "metadata": {},
     "output_type": "execute_result"
    }
   ],
   "source": [
    "comp = d1_mat < d2_mat\n",
    "d_lower = d1_mat*comp + d2_mat*(1-comp)\n",
    "d_lower"
   ]
  },
  {
   "cell_type": "code",
   "execution_count": 14,
   "metadata": {},
   "outputs": [
    {
     "data": {
      "text/plain": [
       "array([[1.41421356, 2.23606798, 3.16227766, 4.12310563],\n",
       "       [2.        , 2.06155281, 2.5       , 3.20156212],\n",
       "       [3.16227766, 3.        , 3.        , 3.16227766]])"
      ]
     },
     "execution_count": 14,
     "metadata": {},
     "output_type": "execute_result"
    }
   ],
   "source": [
    "d_min_segments = is_mid*d_perp + is_end*d_lower\n",
    "d_min_segments"
   ]
  },
  {
   "cell_type": "code",
   "execution_count": 15,
   "metadata": {},
   "outputs": [
    {
     "data": {
      "text/plain": [
       "array([1.41421356, 2.        , 3.        ])"
      ]
     },
     "execution_count": 15,
     "metadata": {},
     "output_type": "execute_result"
    }
   ],
   "source": [
    "@numba.njit\n",
    "def min_over_columns(arr):\n",
    "    n, _ = arr.shape\n",
    "    min_vals = np.empty(n)\n",
    "    for i in range(n):\n",
    "        min_vals[i] = np.min(arr[i,:])\n",
    "    return min_vals\n",
    "\n",
    "min_over_columns(d_min_segments)"
   ]
  },
  {
   "cell_type": "code",
   "execution_count": 75,
   "metadata": {},
   "outputs": [],
   "source": [
    "@numba.njit\n",
    "def min_over_columns(arr):\n",
    "    n, _ = arr.shape\n",
    "    min_vals = np.empty(n)\n",
    "    for i in range(n):\n",
    "        min_vals[i] = np.min(arr[i,:])\n",
    "    return min_vals\n",
    "\n",
    "# @numba.njit\n",
    "def distances_pair_min_new(x_points, y_points, x_curve, y_curve):\n",
    "    x_curve_mat, x_points_mat = mesh_jit(x_curve, x_points)\n",
    "    y_curve_mat, y_points_mat = mesh_jit(y_curve, y_points)\n",
    "\n",
    "    d_pairwise_mat = np.sqrt((x_curve_mat-x_points_mat)**2 + (y_curve_mat-y_points_mat)**2)\n",
    "    \n",
    "    d1_mat = d_pairwise_mat[:,0:-1]\n",
    "    d2_mat = d_pairwise_mat[:,1:]\n",
    "    \n",
    "    ell = np.sqrt((y_curve[1]-y_curve[0])**2 + (x_curve[1]-x_curve[0])**2)\n",
    "    \n",
    "    cos1_mat = (d2_mat**2+ell**2-d1_mat**2)/(2*d2_mat*ell)\n",
    "    cos2_mat = (d1_mat**2+ell**2-d2_mat**2)/(2*d1_mat*ell)\n",
    "    \n",
    "    \n",
    "    sign = np.sign(cos1_mat*cos2_mat)\n",
    "    is_mid = (1+sign)/2\n",
    "    is_end = 1-is_mid\n",
    "    \n",
    "    d_perp = d2_mat*np.sqrt(1-cos1_mat**2)\n",
    "    \n",
    "    print(np.max(np.abs(cos1_mat)))\n",
    "    \n",
    "    comp = d1_mat < d2_mat\n",
    "    d_lower = d1_mat*comp + d2_mat*(1-comp)\n",
    "    \n",
    "    d_min_segments = is_mid*d_perp + is_end*d_lower\n",
    "    \n",
    "    d_min_overall = min_over_columns(d_min_segments)\n",
    "#     d_min_overall[np.isnan(d_min_overall)] = 0\n",
    "    return d_min_overall"
   ]
  },
  {
   "cell_type": "code",
   "execution_count": 76,
   "metadata": {},
   "outputs": [
    {
     "name": "stderr",
     "output_type": "stream",
     "text": [
      "<ipython-input-75-53c9ee88efe3>:22: RuntimeWarning: invalid value encountered in true_divide\n",
      "  cos2_mat = (d1_mat**2+ell**2-d2_mat**2)/(2*d1_mat*ell)\n"
     ]
    },
    {
     "name": "stdout",
     "output_type": "stream",
     "text": [
      "1.0\n"
     ]
    },
    {
     "data": {
      "text/plain": [
       "array([           nan, 2.15906093e-01, 2.12769833e-01, 3.22575592e-01,\n",
       "       8.26893987e-02, 2.09344561e-01, 2.31015476e-02, 3.69983977e-01,\n",
       "       3.56462584e-01, 1.50779393e-01, 2.26726113e-01, 3.10431421e-01,\n",
       "       1.16487597e-01, 2.87271302e-01, 4.39393200e-02, 5.41867851e-02,\n",
       "       9.37126198e-02, 5.87025335e-02, 2.48789878e-02, 9.31959364e-02,\n",
       "       4.18190024e-02, 4.45721000e-02, 4.17639771e-02, 6.94010341e-02,\n",
       "       2.92181341e-02, 1.90616494e-01, 9.28158800e-05, 1.75506058e-02,\n",
       "       5.28446810e-02, 8.43412686e-04, 6.33959252e-02, 1.54154952e-01,\n",
       "       1.54346649e-01, 1.06923560e-01, 5.83914475e-02, 4.80877766e-02,\n",
       "       1.18836423e-02, 1.44002730e-01, 1.63707534e-01, 9.99761142e-02,\n",
       "       1.70198772e-01, 1.85669461e-01, 7.78612308e-02, 4.27612390e-02,\n",
       "       2.13674176e-01, 4.53649211e-02, 2.65722294e-01, 1.10847823e-02,\n",
       "       1.02447732e-01, 1.10760215e-01, 2.24647530e-01, 2.39236837e-01,\n",
       "       3.15800445e-01, 1.32973456e-02, 2.96967752e-01, 3.45140143e-01,\n",
       "       8.23628953e-02, 1.95632899e-01, 1.46244128e-01, 1.60091110e-01,\n",
       "       3.86315295e-01, 3.98566957e-01, 2.17116491e-01, 1.65122948e-01,\n",
       "       4.45235736e-01, 4.68528695e-01, 2.62404904e-01, 4.67652592e-01,\n",
       "       4.70588629e-01, 3.23365215e-01, 2.32092267e-01, 5.39251795e-01,\n",
       "       2.32819431e-01, 5.47663686e-01, 5.14564300e-01, 5.88289534e-01,\n",
       "       4.77704362e-01, 2.53614205e-01, 4.90865885e-01, 6.19776590e-01,\n",
       "       3.05431849e-01, 6.50067760e-01, 5.29965341e-01, 3.70579743e-01,\n",
       "       6.43213559e-01, 5.47235743e-01, 3.91663553e-01, 3.45094298e-01,\n",
       "       4.53717958e-01, 5.22657530e-01, 4.79260142e-01, 5.57332338e-01,\n",
       "       7.03025735e-01, 5.66895470e-01, 7.23899546e-01, 5.35328741e-01,\n",
       "       7.23917184e-01, 3.66112676e-01, 3.86192340e-01, 7.52850041e-01])"
      ]
     },
     "execution_count": 76,
     "metadata": {},
     "output_type": "execute_result"
    }
   ],
   "source": [
    "dd = distances_pair_min_new(x_points, y_points, x_curve, y_curve)\n",
    "dd"
   ]
  },
  {
   "cell_type": "code",
   "execution_count": 73,
   "metadata": {},
   "outputs": [
    {
     "name": "stderr",
     "output_type": "stream",
     "text": [
      "<ipython-input-67-89d58dcaaf06>:22: RuntimeWarning: invalid value encountered in true_divide\n",
      "  cos2_mat = (d1_mat**2+ell**2-d2_mat**2)/(2*d1_mat*ell)\n"
     ]
    },
    {
     "data": {
      "text/plain": [
       "array([           nan, 2.15906093e-01, 2.12769833e-01, 3.22575592e-01,\n",
       "       8.26893987e-02, 2.09344561e-01, 2.31015476e-02, 3.69983977e-01,\n",
       "       3.56462584e-01, 1.50779393e-01, 2.26726113e-01, 3.10431421e-01,\n",
       "       1.16487597e-01, 2.87271302e-01, 4.39393200e-02, 5.41867851e-02,\n",
       "       9.37126198e-02, 5.87025335e-02, 2.48789878e-02, 9.31959364e-02,\n",
       "       4.18190024e-02, 4.45721000e-02, 4.17639771e-02, 6.94010341e-02,\n",
       "       2.92181341e-02, 1.90616494e-01, 9.28158800e-05, 1.75506058e-02,\n",
       "       5.28446810e-02, 8.43412686e-04, 6.33959252e-02, 1.54154952e-01,\n",
       "       1.54346649e-01, 1.06923560e-01, 5.83914475e-02, 4.80877766e-02,\n",
       "       1.18836423e-02, 1.44002730e-01, 1.63707534e-01, 9.99761142e-02,\n",
       "       1.70198772e-01, 1.85669461e-01, 7.78612308e-02, 4.27612390e-02,\n",
       "       2.13674176e-01, 4.53649211e-02, 2.65722294e-01, 1.10847823e-02,\n",
       "       1.02447732e-01, 1.10760215e-01, 2.24647530e-01, 2.39236837e-01,\n",
       "       3.15800445e-01, 1.32973456e-02, 2.96967752e-01, 3.45140143e-01,\n",
       "       8.23628953e-02, 1.95632899e-01, 1.46244128e-01, 1.60091110e-01,\n",
       "       3.86315295e-01, 3.98566957e-01, 2.17116491e-01, 1.65122948e-01,\n",
       "       4.45235736e-01, 4.68528695e-01, 2.62404904e-01, 4.67652592e-01,\n",
       "       4.70588629e-01, 3.23365215e-01, 2.32092267e-01, 5.39251795e-01,\n",
       "       2.32819431e-01, 5.47663686e-01, 5.14564300e-01, 5.88289534e-01,\n",
       "       4.77704362e-01, 2.53614205e-01, 4.90865885e-01, 6.19776590e-01,\n",
       "       3.05431849e-01, 6.50067760e-01, 5.29965341e-01, 3.70579743e-01,\n",
       "       6.43213559e-01, 5.47235743e-01, 3.91663553e-01, 3.45094298e-01,\n",
       "       4.53717958e-01, 5.22657530e-01, 4.79260142e-01, 5.57332338e-01,\n",
       "       7.03025735e-01, 5.66895470e-01, 7.23899546e-01, 5.35328741e-01,\n",
       "       7.23917184e-01, 3.66112676e-01, 3.86192340e-01, 7.52850041e-01])"
      ]
     },
     "execution_count": 73,
     "metadata": {},
     "output_type": "execute_result"
    },
    {
     "data": {
      "image/png": "[encoded data removed]",
      "text/plain": [
       "<Figure size 432x288 with 1 Axes>"
      ]
     },
     "metadata": {
      "needs_background": "light"
     },
     "output_type": "display_data"
    }
   ],
   "source": [
    "x_points = np.sort(np.random.rand(100))\n",
    "x_points[0] = 0\n",
    "y_points = np.random.rand(100)\n",
    "y_points[0] = 0\n",
    "\n",
    "ell = 0.1\n",
    "x_curve = np.zeros(100)\n",
    "y_curve = np.zeros(100)\n",
    "for i in range(1,100):\n",
    "    angle = 2*np.random.rand()\n",
    "    x_curve[i] = x_curve[i-1] + ell*np.cos(angle)\n",
    "    y_curve[i] = y_curve[i-1] + ell*np.sin(angle)\n",
    "\n",
    "# plt.plot(x_points, y_points)\n",
    "plt.plot(x_curve, y_curve)\n",
    "\n",
    "distances_pair_min_new(x_points, y_points, x_curve, y_curve)"
   ]
  },
  {
   "cell_type": "code",
   "execution_count": 74,
   "metadata": {},
   "outputs": [
    {
     "data": {
      "application/vnd.jupyter.widget-view+json": {
       "model_id": "98c3d7b4a1314601bd2f3b9dd63b9291",
       "version_major": 2,
       "version_minor": 0
      },
      "text/plain": [
       "HBox(children=(FloatProgress(value=0.0, max=5000.0), HTML(value='')))"
      ]
     },
     "metadata": {},
     "output_type": "display_data"
    },
    {
     "name": "stderr",
     "output_type": "stream",
     "text": [
      "<ipython-input-67-89d58dcaaf06>:22: RuntimeWarning: invalid value encountered in true_divide\n",
      "  cos2_mat = (d1_mat**2+ell**2-d2_mat**2)/(2*d1_mat*ell)\n"
     ]
    },
    {
     "name": "stdout",
     "output_type": "stream",
     "text": [
      "\n"
     ]
    }
   ],
   "source": [
    "for i in tqdm(range(5000)):\n",
    "    distances_pair_min_new(x_points, y_points, x_curve, y_curve)"
   ]
  },
  {
   "cell_type": "code",
   "execution_count": 20,
   "metadata": {},
   "outputs": [
    {
     "data": {
      "application/vnd.jupyter.widget-view+json": {
       "model_id": "2becd2b175a5448e90ce38d8037b71fe",
       "version_major": 2,
       "version_minor": 0
      },
      "text/plain": [
       "HBox(children=(FloatProgress(value=0.0, max=5000.0), HTML(value='')))"
      ]
     },
     "metadata": {},
     "output_type": "display_data"
    },
    {
     "name": "stdout",
     "output_type": "stream",
     "text": [
      "\n"
     ]
    }
   ],
   "source": [
    "for i in tqdm(range(5000)):\n",
    "    distances_pair_min(x_points, y_points, x_curve, y_curve)"
   ]
  },
  {
   "cell_type": "code",
   "execution_count": 62,
   "metadata": {},
   "outputs": [],
   "source": [
    "x_curve_mat, x_points_mat = mesh_jit(x_curve, x_points)"
   ]
  },
  {
   "cell_type": "code",
   "execution_count": 63,
   "metadata": {},
   "outputs": [
    {
     "data": {
      "text/plain": [
       "array([0.        , 0.02170728, 0.03139112, 0.06260326, 0.06761046,\n",
       "       0.07139506, 0.08016661, 0.08331281, 0.0964931 , 0.10537668,\n",
       "       0.10844277, 0.12189707, 0.12214114, 0.12249986, 0.12498095,\n",
       "       0.12749966, 0.1604675 , 0.16307753, 0.1639726 , 0.16719002,\n",
       "       0.17576012, 0.18760034, 0.19051923, 0.2124945 , 0.21576381,\n",
       "       0.2172816 , 0.22311987, 0.23863079, 0.240238  , 0.24873471,\n",
       "       0.25279234, 0.26547798, 0.26835265, 0.28423596, 0.29113401,\n",
       "       0.30989303, 0.31000806, 0.34566325, 0.34613497, 0.35342918,\n",
       "       0.35423373, 0.38271291, 0.38951187, 0.39038437, 0.40779454,\n",
       "       0.41439653, 0.44392287, 0.44634025, 0.45231459, 0.45344488,\n",
       "       0.48282728, 0.51800265, 0.5258328 , 0.53935629, 0.55234437,\n",
       "       0.55281549, 0.55320117, 0.5648546 , 0.58494149, 0.58655516,\n",
       "       0.6119777 , 0.61515342, 0.61544064, 0.62022085, 0.62293147,\n",
       "       0.62656508, 0.63640821, 0.64873741, 0.64967532, 0.65444156,\n",
       "       0.68262738, 0.68457153, 0.6897329 , 0.69167748, 0.69349108,\n",
       "       0.70865628, 0.76422641, 0.76632355, 0.77444714, 0.78026366,\n",
       "       0.7879965 , 0.79401681, 0.79611166, 0.80222383, 0.80516554,\n",
       "       0.82174506, 0.84013752, 0.84685416, 0.85531174, 0.86350598,\n",
       "       0.86542384, 0.86664212, 0.88448488, 0.8861069 , 0.88941162,\n",
       "       0.9185852 , 0.93612313, 0.94063985, 0.96702185, 0.99428028])"
      ]
     },
     "execution_count": 63,
     "metadata": {},
     "output_type": "execute_result"
    }
   ],
   "source": [
    "x_curve"
   ]
  },
  {
   "cell_type": "code",
   "execution_count": 64,
   "metadata": {},
   "outputs": [
    {
     "data": {
      "text/plain": [
       "array([[0.        , 0.02170728, 0.03139112, ..., 0.94063985, 0.96702185,\n",
       "        0.99428028],\n",
       "       [0.        , 0.02170728, 0.03139112, ..., 0.94063985, 0.96702185,\n",
       "        0.99428028],\n",
       "       [0.        , 0.02170728, 0.03139112, ..., 0.94063985, 0.96702185,\n",
       "        0.99428028],\n",
       "       ...,\n",
       "       [0.        , 0.02170728, 0.03139112, ..., 0.94063985, 0.96702185,\n",
       "        0.99428028],\n",
       "       [0.        , 0.02170728, 0.03139112, ..., 0.94063985, 0.96702185,\n",
       "        0.99428028],\n",
       "       [0.        , 0.02170728, 0.03139112, ..., 0.94063985, 0.96702185,\n",
       "        0.99428028]])"
      ]
     },
     "execution_count": 64,
     "metadata": {},
     "output_type": "execute_result"
    }
   ],
   "source": [
    "x_curve_mat"
   ]
  },
  {
   "cell_type": "code",
   "execution_count": null,
   "metadata": {},
   "outputs": [],
   "source": []
  }
 ],
 "metadata": {
  "kernelspec": {
   "display_name": "Python 3",
   "language": "python",
   "name": "python3"
  },
  "language_info": {
   "codemirror_mode": {
    "name": "ipython",
    "version": 3
   },
   "file_extension": ".py",
   "mimetype": "text/x-python",
   "name": "python",
   "nbconvert_exporter": "python",
   "pygments_lexer": "ipython3",
   "version": "3.8.3"
  }
 },
 "nbformat": 4,
 "nbformat_minor": 4
}
