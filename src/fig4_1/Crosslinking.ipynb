{
 "cells": [
  {
   "cell_type": "markdown",
   "metadata": {},
   "source": [
    "- make the external force perpendicular"
   ]
  },
  {
   "cell_type": "code",
   "execution_count": 39,
   "metadata": {},
   "outputs": [],
   "source": [
    "import numpy as np\n",
    "import matplotlib.pyplot as plt\n",
    "%matplotlib inline\n",
    "import matplotlib.pylab as pl\n",
    "from ipywidgets import interact, interactive, fixed, interact_manual\n",
    "import ipywidgets\n",
    "import random\n",
    "import scipy.optimize\n",
    "from scipy.interpolate import interp1d\n",
    "import pandas as pd\n",
    "from tqdm.notebook import tqdm_notebook as tqdm\n",
    "import seaborn as sns\n",
    "from matplotlib.colors import rgb2hex\n"
   ]
  },
  {
   "cell_type": "code",
   "execution_count": 40,
   "metadata": {},
   "outputs": [],
   "source": [
    "save_images = False"
   ]
  },
  {
   "cell_type": "code",
   "execution_count": 41,
   "metadata": {},
   "outputs": [],
   "source": [
    "def CL_cdf_fun(L_contour, offset, amplitude, sigma, num_sites, distribution='step'):\n",
    "    x_ls = np.linspace(0,L_contour,num_sites)\n",
    "    dx = x_ls[1] - x_ls[0]\n",
    "    pdf_ls=[]\n",
    "\n",
    "    dx_site = L_contour/num_sites\n",
    "    \n",
    "    if distribution == 'step':\n",
    "        for x in x_ls:\n",
    "            if x < sigma:\n",
    "                pdf = amplitude + offset\n",
    "            elif x >= sigma:\n",
    "                pdf = offset \n",
    "            \n",
    "            if pdf*dx_site > 1:\n",
    "                raise ValueError('# crosslinkers exceeded # binding sites available!')\n",
    "        \n",
    "            pdf_ls.append(pdf)\n",
    "    \n",
    "    elif distribution == 'gaussian':\n",
    "        for x in x_ls:\n",
    "            pdf = offset+amplitude*np.exp(-x**2/(2*sigma**2))\n",
    "            pdf_ls.append(pdf)\n",
    "    \n",
    "            if pdf*dx_site > 1:\n",
    "                raise ValueError('# crosslinkers exceeded # binding sites available!')\n",
    "    \n",
    "    cdf_ls = np.cumsum(pdf_ls)*dx\n",
    "            \n",
    "    return x_ls, cdf_ls\n",
    "\n",
    "\n",
    "def CL_pos_fn(L_contour, num_sites, CL_tot, amp2offset, sigma, distribution, spacing='deterministic'):\n",
    "    \n",
    "    if distribution == 'gaussian':\n",
    "        G = np.sqrt(np.pi/2)*sigma/L_contour*scipy.special.erf(L_contour/np.sqrt(2*sigma**2))\n",
    "        CL_avg = CL_tot/L_contour\n",
    "        offset = CL_avg/(1+amp2offset*G)\n",
    "        amplitude = amp2offset*offset        \n",
    "    elif distribution == 'step':\n",
    "        offset = CL_tot/(L_contour+(amp2offset*sigma))\n",
    "        amplitude = amp2offset*offset        \n",
    "\n",
    "    x_ls,cdf_ls = CL_cdf_fun(L_contour, offset, amplitude, sigma, num_sites, distribution)\n",
    "\n",
    "    if spacing == 'random':\n",
    "        re_x_ls = np.zeros(CL_tot)\n",
    "        for i in range(CL_tot):\n",
    "            re = np.random.rand()*cdf_ls[-1]\n",
    "            re = np.max([re,cdf_ls[0]])\n",
    "            ind = np.where(cdf_ls <= re)[-1][-1]\n",
    "            re_x_ls[i] = x_ls[ind]\n",
    "        re_x_ls = np.unique(re_x_ls)\n",
    "\n",
    "    elif spacing == 'deterministic':\n",
    "        cdf_interp = interp1d(x_ls,cdf_ls)\n",
    "        ecdf = 0\n",
    "        dx = L_contour/num_sites\n",
    "        x_curr = 0\n",
    "        re_x_ls = []\n",
    "        while x_curr <= L_contour-dx and ecdf < CL_tot:\n",
    "            if ecdf+1 < cdf_interp(x_curr+dx):\n",
    "                re_x_ls.append(x_curr+dx)\n",
    "                ecdf += 1\n",
    "            x_curr += dx\n",
    "        re_x_ls = np.array(re_x_ls)\n",
    "    return np.sort(re_x_ls)\n",
    "\n",
    "        \n",
    "def deflection_CL_density(param, L_contour, Fy, xF, CL_pos, CL_kv, num_sites, n_points=1000):\n",
    "    \n",
    "    # deflection function when external force is exerted on a steady-state k-fiber\n",
    "    # and crosslinking to environment is engaged\n",
    "\n",
    "    Ry, theta0 = param\n",
    "    \n",
    "    ds = L_contour/(n_points - 1)\n",
    "    \n",
    "    x_ls = np.zeros(n_points)\n",
    "    y_ls = np.zeros(n_points)\n",
    "    \n",
    "    slope_ls = np.zeros(n_points)\n",
    "    slope_ls[0] = np.tan(theta0)\n",
    "    \n",
    "    def dx_fn(slope):\n",
    "        return ds/np.sqrt(1+slope**2)\n",
    "    \n",
    "    dx_ls = np.zeros(n_points)\n",
    "    dx_ls[0] = dx_fn(slope_ls[0])\n",
    "    \n",
    "    M_ls = np.zeros(n_points)\n",
    "\n",
    "    fCLy = 0\n",
    "    Mfy = 0\n",
    "\n",
    "    dx_site = L_contour/num_sites\n",
    "    ind_curr = 0\n",
    "    for i in range(1,n_points):            \n",
    "        \n",
    "        # Midpoint method\n",
    "        if i>1:\n",
    "            y_fn = interp1d(x_ls[i-2:i],y_ls[i-2:i])\n",
    "#             CL_pos_i = CL_pos[(CL_pos >= x_ls[i-2]) & (CL_pos < x_ls[i-1])]\n",
    "            \n",
    "            ############\n",
    "            dn = int((x_ls[i-1] - x_ls[i-2])/dx_site) + 1\n",
    "            CL_pos_i_ls = []\n",
    "            \n",
    "            num_accepted = 0\n",
    "            for j in range(ind_curr, np.min([ind_curr+dn,len(CL_pos)])):\n",
    "                if CL_pos[j] < x_ls[i-1] and CL_pos[j] >= x_ls[i-2]:\n",
    "                    CL_pos_i_ls.append(CL_pos[j])\n",
    "                    num_accepted += 1\n",
    "\n",
    "                else:\n",
    "                    break\n",
    "            ind_curr += num_accepted\n",
    "            CL_pos_i_ls = np.array(CL_pos_i_ls)\n",
    "#             print(CL_pos_i_ls)\n",
    "            dfy = np.sum(CL_kv*y_fn(CL_pos_i_ls)) # downward pointing force\n",
    "            fCLy += dfy\n",
    "            Mfy -= np.sum(dfy*CL_pos_i_ls)            \n",
    "\n",
    "        Mf = fCLy*x_ls[i-1] + Mfy \n",
    "        M = - Ry*x_ls[i-1] + Mf\n",
    "        \n",
    "        if x_ls[i-1] > xF:\n",
    "            M = M - Fy*(x_ls[i-1]-xF) \n",
    "            \n",
    "        dx = dx_fn(slope_ls[i-1])\n",
    "        slope_mid = slope_ls[i-1] - dx/2*M * (1+slope_ls[i-1]**2)**1.5\n",
    "        \n",
    "        slope_mid = np.sign(slope_mid)*np.min([np.abs(slope_mid), 100])\n",
    "        dx = dx_fn(slope_mid)\n",
    "        \n",
    "        y_mid = y_ls[i-1] + dx/2*slope_mid\n",
    "        x_mid = x_ls[i-1] + dx/2\n",
    "                     \n",
    "        Mf_mid = fCLy*x_mid + Mfy          \n",
    "        M_mid = - Ry*x_mid + Mf_mid\n",
    "        \n",
    "        if x_mid > xF:\n",
    "            M_mid = M_mid - Fy*(x_mid-xF) \n",
    "\n",
    "        M_ls[i] = M_mid\n",
    "        \n",
    "        dx_ls[i] = dx\n",
    "        slope_ls[i] = slope_ls[i-1] - dx*M_mid * (1+slope_mid**2)**1.5\n",
    "        slope_ls[i] = np.sign(slope_ls[i])*np.min([np.abs(slope_ls[i]), 100])\n",
    "        x_ls[i] = x_ls[i-1] + dx\n",
    "        y_ls[i] = y_ls[i-1] + dx*slope_mid\n",
    "    \n",
    "    if xF > x_ls[-1]:\n",
    "        Ky = -(Ry - fCLy) # vertical force at the kinetochore\n",
    "    else:\n",
    "        Ky = -(Fy + Ry - fCLy) # vertical force at the kinetochore\n",
    "\n",
    "    deflection_output = {\"x_ls\": x_ls, \n",
    "                         \"y_ls\": y_ls,\n",
    "                         \"M_ls\": M_ls,\n",
    "                         \"Ky\": Ky,\n",
    "                         \"fCLy\":fCLy, \n",
    "                         \"slope_ls\": slope_ls}\n",
    "    \n",
    "    return deflection_output\n",
    "\n",
    "def error_CL_density(param, L_contour, Fy, xF, CL_pos, CL_kv, num_sites):\n",
    "    deflection_output = deflection_CL_density(param, L_contour, Fy, xF, CL_pos, CL_kv, num_sites)\n",
    "\n",
    "    M_ls, y_ls = [deflection_output[key] for key in [\"M_ls\", \"y_ls\"]]\n",
    "    \n",
    "    M_right = M_ls[-1]\n",
    "    y_right = y_ls[-1]\n",
    "    error = abs(M_right)**2 + abs(y_right)**2\n",
    "    return error\n",
    "\n",
    "def give_param_opt(param_init, args):\n",
    "    output = scipy.optimize.minimize(error_CL_density, param_init, args, method=\"Nelder-Mead\", tol=1e-9)\n",
    "    if output.fun > 1e-3:\n",
    "        raise Exception(\"Optimum not found!!\")\n",
    "    param_opt = output.x\n",
    "    return param_opt"
   ]
  },
  {
   "cell_type": "code",
   "execution_count": 42,
   "metadata": {},
   "outputs": [],
   "source": [
    "def CL_simulation(Fy, xF, L_contour, num_sites, CL_tot, amp2offset, sigma, CL_kv, distribution, spacing):\n",
    "\n",
    "    CL_pos = CL_pos_fn(L_contour, num_sites, CL_tot, amp2offset, sigma, distribution, spacing)    \n",
    "        \n",
    "    keys = [\"x_ls\", \"y_ls\", \"M_ls\", \"Ky\", \"fCLy\", \"slope_ls\"]\n",
    "    \n",
    "    F_low = 0.001\n",
    "    Ry, theta0 = np.array([1e-3, 1e-3])\n",
    "    Fy_ls = np.concatenate(([F_low], np.logspace(np.log10(F_low), np.log10(Fy), 10)))\n",
    "    \n",
    "    force_reduced = False\n",
    "    \n",
    "    rescale_Ry = Fy_ls[2]/Fy_ls[1]\n",
    "    rescale_theta0 = Fy_ls[2]/Fy_ls[1]\n",
    "    \n",
    "    for i in tqdm(range(1, len(Fy_ls))):\n",
    "        Ry = Ry * rescale_Ry\n",
    "        theta0 = theta0 * rescale_theta0\n",
    "        \n",
    "        try:\n",
    "            Fy = Fy_ls[i]\n",
    "            args = (L_contour, Fy, xF, CL_pos, CL_kv, num_sites)\n",
    "            [Ry, theta0] = give_param_opt([Ry, theta0], args)\n",
    "        except Exception:\n",
    "            Fy = Fy_ls[i-1]\n",
    "            Ry /= rescale_Ry\n",
    "            theta0 /= rescale_theta0\n",
    "            \n",
    "            args = (L_contour, Fy, xF, CL_pos, CL_kv, num_sites)\n",
    "            [Ry, theta0] = give_param_opt([Ry, theta0], args)\n",
    "            force_reduced = True\n",
    "            \n",
    "        if i > 1:\n",
    "            rescale_Ry = Ry/Ry_prime\n",
    "            rescale_theta0 = theta0/theta0_prime\n",
    "        Ry_prime = Ry\n",
    "        theta0_prime = theta0\n",
    "        \n",
    "        deflection_output = deflection_CL_density([Ry, theta0], L_contour, Fy, xF, CL_pos, CL_kv, num_sites)\n",
    "        x_ls, y_ls, M_ls, Ky, fCLy, slope_ls = [deflection_output[key] for key in keys]\n",
    "        \n",
    "        if force_reduced:\n",
    "            print('Force got reduced to ' + str(Fy))\n",
    "            break\n",
    "    return x_ls, y_ls, M_ls, Ky, fCLy, slope_ls, CL_pos, Fy, Ry, theta0\n",
    "\n",
    "def plot_profile_fn(x_ls, y_ls, M_ls, Fy, xF, CL_pos, CL_plotting_freq):\n",
    "    plt.plot(x_ls,y_ls, color='k', lw=5, zorder=2)\n",
    "\n",
    "    index_star = M_ls==M_ls[x_ls<xF].min()\n",
    "    plt.scatter(x_ls[index_star], y_ls[index_star], marker=\"*\",s=300, zorder=10,color=\"red\",edgecolor=\"k\")\n",
    "\n",
    "    # bins = 200\n",
    "    # plt.hist(CL_pos, bins, alpha=0.5, weights=[np.max(y_ls)/CL_tot*(bins/5)]*len(CL_pos))#, cumulative=True)\n",
    "    y_interp = interp1d(x_ls,y_ls)\n",
    "    for i in range(0,len(CL_pos),CL_plotting_freq):\n",
    "        if CL_pos[i] <= x_ls[-1]:\n",
    "            plt.plot([CL_pos[i],CL_pos[i]],[0,y_interp(CL_pos[i])], color='lightgray', zorder=1)\n",
    "\n",
    "#     plt.plot(x_ls, M_ls, color='royalblue')\n",
    "\n",
    "    plt.quiver(xF,y_interp(xF), 0,Fy,color='gold',scale=10,zorder=3)\n",
    "\n",
    "#     plt.axvline(xF,color='k', ls='--')\n",
    "    plt.axhline(0,color='k', ls='--')\n",
    "    plt.axvline(0,color='k', ls='--')\n",
    "    plt.ylim(-np.max(y_ls)*0.5,np.max(y_ls)*2)\n",
    "    plt.xlim(-0.5,10.5)\n",
    "    plt.xticks(fontsize=15)\n",
    "    plt.yticks(fontsize=15)\n",
    "#     plt.axis(\"equal\")\n",
    "    plt.tight_layout()\n",
    "    plt.show()\n",
    "\n",
    "# def plot_CLdist_fn(x_ls, CL_pos, CL_plotting_freq):\n",
    "#     for ind in range(0,len(CL_pos),CL_plotting_freq):\n",
    "#         if CL_pos[ind] <= x_ls[-1]:\n",
    "#             plt.plot([CL_pos[ind],CL_pos[ind]],[0,1], color='lightgray', zorder=1)\n",
    "\n",
    "#     plt.xlabel(\"Position along k-fiber\")\n",
    "#     plt.ylabel(\"CL distribution\")\n",
    "#     plt.axvline(sigma, color='grey', ls = '--')\n",
    "#     plt.ylim(0,2)\n",
    "#     plt.xlim(-0.5,10.5)\n",
    "#     plt.tight_layout()\n",
    "#     plt.show()"
   ]
  },
  {
   "cell_type": "code",
   "execution_count": 43,
   "metadata": {},
   "outputs": [],
   "source": [
    "# df = pd.DataFrame(columns = [\"L_contour\", \"Fy\", \"xF\", \"num_sites\", \"CL_tot\", \"amp2offset\", \\\n",
    "#                              \"sigma\", \"CL_kv\", \"distribution\", \"spacing\", \\\n",
    "#                              \"x_vals\", \"y_vals\", \"M_vals\", \"Ky_val\", \"fCLy_val\", \"slope_vals\", \\\n",
    "#                              \"CL_pos_vals\", \"Fy_val\", \"Ry_val\", \"theta0_val\"])\n",
    "# df.to_pickle(\"discreteCL_modeling.pkl\")\n",
    "\n",
    "df_new = pd.DataFrame()\n",
    "df = pd.read_pickle(\"discreteCL_modeling.pkl\")"
   ]
  },
  {
   "cell_type": "code",
   "execution_count": 44,
   "metadata": {},
   "outputs": [
    {
     "data": {
      "image/png": "[encoded data removed]",
      "text/plain": [
       "<Figure size 360x360 with 1 Axes>"
      ]
     },
     "metadata": {
      "needs_background": "light"
     },
     "output_type": "display_data"
    }
   ],
   "source": [
    "df_dat = pd.read_csv(\"../../../dat/curvature_maxmin_positions_summary.csv\")\n",
    "\n",
    "df_dat = df_dat.dropna()\n",
    "X = df_dat[\"Distance of maxima from plus-end (μm)\"].dropna()\n",
    "Y = df_dat[\"Distance of minima from plus-end (μm)\"].dropna()\n",
    "\n",
    "nbins = 4\n",
    "n, _ = np.histogram(X, bins=nbins)\n",
    "sy, _ = np.histogram(X, bins=nbins, weights=Y)\n",
    "sy2, _ = np.histogram(X, bins=nbins, weights=Y*Y)\n",
    "mean = sy / n\n",
    "std = np.sqrt(sy2/n - mean*mean)\n",
    "plt.figure(figsize=(5,5))\n",
    "\n",
    "plt.scatter(X,Y, s=70, color='lightgray',ec='k')\n",
    "plt.errorbar((_[1:] + _[:-1])/2, mean, yerr=std, fmt='o-',color='k',capsize=5,zorder=10)\n",
    "# plt.xlabel(\"distance of needle from chromosome\")\n",
    "# plt.ylabel(\"distance of curv. minima from chromosome\")\n",
    "plt.axhline(3,color='k',ls='--')\n",
    "plt.axhline(1,color='k',ls='--')\n",
    "plt.xticks(fontsize=15)\n",
    "plt.yticks(fontsize=15)\n",
    "plt.xlim(0,11)\n",
    "plt.ylim(0,11)\n",
    "plt.tight_layout()\n",
    "if save_images:\n",
    "    plt.savefig(\"fig_outputs/WT_experimental_data.pdf\")\n",
    "plt.show()"
   ]
  },
  {
   "cell_type": "code",
   "execution_count": 45,
   "metadata": {},
   "outputs": [
    {
     "data": {
      "image/png": "[encoded data removed]",
      "text/plain": [
       "<Figure size 360x360 with 1 Axes>"
      ]
     },
     "metadata": {
      "needs_background": "light"
     },
     "output_type": "display_data"
    }
   ],
   "source": [
    "L_contour = 10\n",
    "Fy = 1\n",
    "xF_ls = [1,2,3,4,5,6,7,8,9]\n",
    "num_sites = 1000\n",
    "CL_tot = 100\n",
    "amp2offset = 1e6\n",
    "sigma_ls = [10,9,8,7,6,5,4,3,2,1]\n",
    "CL_kv = 0.1\n",
    "distribution = 'step'\n",
    "spacing = 'deterministic' # 'deterministic' or 'random'\n",
    "colors = pl.cm.Greens(np.linspace(0.15,1,len(sigma_ls)))\n",
    "\n",
    "############################\n",
    "# GENERATE SIMULATED DATA\n",
    "# If the input conditions are not already in df, RUN simulation and append to df, else PASS \n",
    "\n",
    "sim_run = False\n",
    "for sigma in sigma_ls:\n",
    "    for xF in xF_ls:\n",
    "        df_found = df.loc[(df['L_contour'] == L_contour) & (df['Fy'] == Fy) & (df['xF'] == xF) & (df['num_sites'] == num_sites)\n",
    "                          & (df['CL_tot'] == CL_tot) & (df['amp2offset'] == amp2offset) & (df['sigma'] == sigma)\n",
    "                          & (df['CL_kv'] == CL_kv) & (df['distribution'] == distribution) & (df['spacing'] == spacing)]\n",
    "\n",
    "        if not df_found.empty:\n",
    "            sim_run = False\n",
    "#             print(\"Exists\")\n",
    "        elif df_found.empty:\n",
    "            sim_run = True\n",
    "            print(\"Does not exist. Running...\")\n",
    "            x_ls, y_ls, M_ls, Ky, fCLy, slope_ls, CL_pos, Fy_sim, Ry_sim, theta0_sim = CL_simulation(Fy, xF, L_contour, num_sites, CL_tot,\n",
    "                                                                                                     amp2offset, sigma, CL_kv, distribution, spacing)\n",
    "\n",
    "        if sim_run:\n",
    "            df_new = df_new.append({'L_contour':L_contour,'Fy':Fy,'xF':xF,'num_sites':num_sites,\n",
    "                                    'CL_tot':CL_tot,'amp2offset': amp2offset,'sigma': sigma,'CL_kv': CL_kv,\n",
    "                                    'distribution': distribution,'spacing':spacing,\n",
    "                                    'x_vals':x_ls,'y_vals':y_ls,'M_vals':M_ls,'Ky_val':Ky,'fCLy_val': -fCLy,\n",
    "                                    'slope_vals':slope_ls,'CL_pos_vals':CL_pos, 'Fy_val':Fy_sim, 'Ry_val':Ry_sim, \n",
    "                                    'theta0_val':theta0_sim},ignore_index=True)    \n",
    "\n",
    "df_new = df_new.drop_duplicates([\"L_contour\", \"Fy\", \"xF\", \"num_sites\", \"CL_tot\", \"amp2offset\",\n",
    "                               \"sigma\", \"CL_kv\", \"distribution\", \"spacing\"], ignore_index=True)\n",
    "\n",
    "df = df.append(df_new, ignore_index=True)\n",
    "df.to_pickle(\"discreteCL_modeling.pkl\")\n",
    "\n",
    "\n",
    "############################\n",
    "# PLOT RESULTS\n",
    "\n",
    "kfiber_length_arr = np.zeros(len(xF_ls))\n",
    "chrom_star_dist_arr = np.zeros(len(xF_ls))\n",
    "chrom_needle_dist_arr = np.zeros(len(xF_ls))\n",
    "x_star_array = np.zeros(len(xF_ls)) \n",
    "x_star_arrays = []\n",
    "plt.figure(figsize=(5,5))\n",
    "for n,sigma in enumerate(sigma_ls):\n",
    "    for i,xF in enumerate(xF_ls):\n",
    "        df_found = df.loc[(df['L_contour'] == L_contour) & (df['Fy'] == Fy) & (df['xF'] == xF) & (df['num_sites'] == num_sites) \n",
    "                          & (df['CL_tot'] == CL_tot) & (df['amp2offset'] == amp2offset) & (df['sigma'] == sigma)\n",
    "                          & (df['CL_kv'] == CL_kv) & (df['distribution'] == distribution) & (df['spacing'] == spacing)]\n",
    "        x_ls = df_found[\"x_vals\"].values[0]\n",
    "        y_ls = df_found[\"y_vals\"].values[0]\n",
    "        M_ls = df_found[\"M_vals\"].values[0]\n",
    "        CL_pos = df_found[\"CL_pos_vals\"].values[0]  \n",
    "\n",
    "        index_star = np.where(M_ls==M_ls[x_ls<xF].min())[0][0]\n",
    "        x_star = x_ls[index_star]\n",
    "        y_star = y_ls[index_star]\n",
    "        y_interp = interp1d(x_ls,y_ls)\n",
    "        xF = xF\n",
    "        yF = y_interp(xF)\n",
    "\n",
    "        chrom_star_dist = 0\n",
    "        chrom_needle_dist = 0\n",
    "        kfiber_length = 0\n",
    "        for j in range(1,len(x_ls)):\n",
    "            kfiber_length += np.sqrt((x_ls[j] - x_ls[j-1])**2+(y_ls[j] - y_ls[j-1])**2)\n",
    "            if x_ls[j] <= x_star:\n",
    "                chrom_star_dist += np.sqrt((x_ls[j] - x_ls[j-1])**2+(y_ls[j] - y_ls[j-1])**2)\n",
    "            if x_ls[j] <= xF:\n",
    "                chrom_needle_dist += np.sqrt((x_ls[j] - x_ls[j-1])**2+(y_ls[j] - y_ls[j-1])**2)\n",
    "\n",
    "        kfiber_length_arr[i] = kfiber_length\n",
    "        chrom_star_dist_arr[i] = chrom_star_dist\n",
    "        chrom_needle_dist_arr[i] = chrom_needle_dist\n",
    "        x_star_array[i] = x_star\n",
    "        \n",
    "    x_star_arrays.append(x_star_array.tolist())    \n",
    "    \n",
    "    plt.plot(xF_ls,x_star_array, 'o-', color=colors[n])\n",
    "#     if sigma == 10:\n",
    "#         plt.plot(xF_ls,x_star_array, color='k', lw=6,alpha=0.3, zorder=10)\n",
    "# plt.title(\"Position of chromosome\")\n",
    "# plt.xlabel(\"distance from needle\")\n",
    "# plt.ylabel(\"distance from star\")\n",
    "plt.xlim(0,9)\n",
    "plt.ylim(0,9)\n",
    "plt.xticks(fontsize=15)\n",
    "plt.yticks(fontsize=15)\n",
    "plt.axhline(1,color='gray',ls='--', lw=2)\n",
    "plt.axhline(3,color='gray',ls='--', lw=2)\n",
    "plt.tight_layout()\n",
    "if save_images:\n",
    "    plt.savefig(\"fig_outputs/tuning_sigmas.pdf\")\n",
    "plt.show()\n",
    "\n",
    "# plt.figure(figsize=(8,5))\n",
    "# model_ls  = [i[1:] for i in x_star_arrays]\n",
    "# # data_ls.insert(0,df_dat[\"Distance of minima from plus-end (μm)\"].tolist())\n",
    "\n",
    "# color_ls = [rgb2hex(colors[i,:]) for i in range(colors.shape[0]) ]\n",
    "# # color_ls.insert(0,'lightgray')\n",
    "\n",
    "# mean_ls = [np.mean(i) for i in model_ls]\n",
    "# # err_ls = [np.std(i)/np.sqrt(len(i)) for i in data_ls]\n",
    "# err_ls = [np.std(i) for i in model_ls]\n",
    "\n",
    "# dat_ls = df_dat[\"Distance of minima from plus-end (μm)\"]\n",
    "\n",
    "# sns.swarmplot(data=model_ls, palette = color_ls, size = 10)\n",
    "# plt.errorbar([0,1,2,3],mean_ls[0:4], yerr = err_ls[0:4], \\\n",
    "#              elinewidth=6, fmt = '_',color = \"k\", marker = '_',markersize = 5, \\\n",
    "#              capsize = 7, zorder = 10, capthick=1.5)\n",
    "# plt.axhline(min(dat_ls),color='grey', ls = \"--\")\n",
    "# plt.axhline(max(dat_ls),color='grey', ls = \"--\")\n",
    "# # plt.xticks(list(range(len(model_ls))), (\"\",\"\",\"\",\"\",\"\",\"\"))\n",
    "# plt.ylim(0,9)\n",
    "# plt.xticks(fontsize=15)\n",
    "# plt.yticks(fontsize=15)\n",
    "# plt.tight_layout()\n",
    "# if save_images:\n",
    "#     plt.savefig(\"fig_outputs/curvminima_comparison.pdf\")\n",
    "# plt.show()"
   ]
  },
  {
   "cell_type": "code",
   "execution_count": null,
   "metadata": {},
   "outputs": [],
   "source": []
  },
  {
   "cell_type": "code",
   "execution_count": 46,
   "metadata": {
    "scrolled": false
   },
   "outputs": [
    {
     "name": "stdout",
     "output_type": "stream",
     "text": [
      "sigma = 2\n"
     ]
    },
    {
     "data": {
      "text/plain": [
       "<Figure size 360x360 with 0 Axes>"
      ]
     },
     "metadata": {},
     "output_type": "display_data"
    },
    {
     "data": {
      "image/png": "[encoded data removed]",
      "text/plain": [
       "<Figure size 360x144 with 1 Axes>"
      ]
     },
     "metadata": {
      "needs_background": "light"
     },
     "output_type": "display_data"
    },
    {
     "data": {
      "image/png": "[encoded data removed]",
      "text/plain": [
       "<Figure size 360x144 with 1 Axes>"
      ]
     },
     "metadata": {
      "needs_background": "light"
     },
     "output_type": "display_data"
    },
    {
     "data": {
      "image/png": "[encoded data removed]",
      "text/plain": [
       "<Figure size 360x144 with 1 Axes>"
      ]
     },
     "metadata": {
      "needs_background": "light"
     },
     "output_type": "display_data"
    },
    {
     "name": "stdout",
     "output_type": "stream",
     "text": [
      "sigma = 10\n"
     ]
    },
    {
     "data": {
      "image/png": "[encoded data removed]",
      "text/plain": [
       "<Figure size 360x144 with 1 Axes>"
      ]
     },
     "metadata": {
      "needs_background": "light"
     },
     "output_type": "display_data"
    },
    {
     "data": {
      "image/png": "[encoded data removed]",
      "text/plain": [
       "<Figure size 360x144 with 1 Axes>"
      ]
     },
     "metadata": {
      "needs_background": "light"
     },
     "output_type": "display_data"
    },
    {
     "data": {
      "image/png": "[encoded data removed]",
      "text/plain": [
       "<Figure size 360x144 with 1 Axes>"
      ]
     },
     "metadata": {
      "needs_background": "light"
     },
     "output_type": "display_data"
    }
   ],
   "source": [
    "L_contour = 10\n",
    "Fy = 1\n",
    "xF_ls = [3,5,7]\n",
    "num_sites = 1000\n",
    "CL_tot = 100\n",
    "amp2offset = 1e6\n",
    "sigma_ls = [2,10]\n",
    "CL_kv = 0.1\n",
    "distribution = 'step'\n",
    "spacing = 'deterministic' # 'deterministic' or 'random'\n",
    "colors = pl.cm.Greens(np.linspace(0.15,1,len(sigma_ls)))\n",
    "\n",
    "############################\n",
    "# GENERATE SIMULATED DATA\n",
    "# If the input conditions are not already in df, RUN simulation and append to df, else PASS \n",
    "\n",
    "sim_run = False\n",
    "for sigma in sigma_ls:\n",
    "    for xF in xF_ls:\n",
    "        df_found = df.loc[(df['L_contour'] == L_contour) & (df['Fy'] == Fy) & (df['xF'] == xF) & (df['num_sites'] == num_sites)\n",
    "                          & (df['CL_tot'] == CL_tot) & (df['amp2offset'] == amp2offset) & (df['sigma'] == sigma)\n",
    "                          & (df['CL_kv'] == CL_kv) & (df['distribution'] == distribution) & (df['spacing'] == spacing)]\n",
    "\n",
    "        if not df_found.empty:\n",
    "            sim_run = False\n",
    "#             print(\"Exists\")\n",
    "        elif df_found.empty:\n",
    "            sim_run = True\n",
    "            print(\"Does not exist. Running...\")\n",
    "            x_ls, y_ls, M_ls, Ky, fCLy, slope_ls, CL_pos, Fy_sim, Ry_sim, theta0_sim = CL_simulation(Fy, xF, L_contour, num_sites, CL_tot,\n",
    "                                                                                                     amp2offset, sigma, CL_kv, distribution, spacing)\n",
    "\n",
    "        if sim_run:\n",
    "            df_new = df_new.append({'L_contour':L_contour,'Fy':Fy,'xF':xF,'num_sites':num_sites,\n",
    "                                    'CL_tot':CL_tot,'amp2offset': amp2offset,'sigma': sigma,'CL_kv': CL_kv,\n",
    "                                    'distribution': distribution,'spacing':spacing,\n",
    "                                    'x_vals':x_ls,'y_vals':y_ls,'M_vals':M_ls,'Ky_val':Ky,'fCLy_val': -fCLy,\n",
    "                                    'slope_vals':slope_ls,'CL_pos_vals':CL_pos, 'Fy_val':Fy_sim, 'Ry_val':Ry_sim, \n",
    "                                    'theta0_val':theta0_sim},ignore_index=True)    \n",
    "\n",
    "df_new = df_new.drop_duplicates([\"L_contour\", \"Fy\", \"xF\", \"num_sites\", \"CL_tot\", \"amp2offset\",\n",
    "                               \"sigma\", \"CL_kv\", \"distribution\", \"spacing\"], ignore_index=True)\n",
    "\n",
    "df = df.append(df_new, ignore_index=True)\n",
    "df.to_pickle(\"discreteCL_modeling.pkl\")\n",
    "\n",
    "\n",
    "############################\n",
    "# PLOT RESULTS\n",
    "\n",
    "kfiber_length_arr = np.zeros(len(xF_ls))\n",
    "chrom_star_dist_arr = np.zeros(len(xF_ls))\n",
    "chrom_needle_dist_arr = np.zeros(len(xF_ls))\n",
    "x_star_array = np.zeros(len(xF_ls)) \n",
    "x_star_arrays = []\n",
    "plt.figure(figsize=(5,5))\n",
    "for n,sigma in enumerate(sigma_ls):\n",
    "    print(\"sigma = %s\"%sigma)\n",
    "    for i,xF in enumerate(xF_ls):\n",
    "        df_found = df.loc[(df['L_contour'] == L_contour) & (df['Fy'] == Fy) & (df['xF'] == xF) & (df['num_sites'] == num_sites) \n",
    "                          & (df['CL_tot'] == CL_tot) & (df['amp2offset'] == amp2offset) & (df['sigma'] == sigma)\n",
    "                          & (df['CL_kv'] == CL_kv) & (df['distribution'] == distribution) & (df['spacing'] == spacing)]\n",
    "        x_ls = df_found[\"x_vals\"].values[0]\n",
    "        y_ls = df_found[\"y_vals\"].values[0]\n",
    "        M_ls = df_found[\"M_vals\"].values[0]\n",
    "        CL_pos = df_found[\"CL_pos_vals\"].values[0]  \n",
    "\n",
    "        # flip profile\n",
    "        L = x_ls[-1] - x_ls[0]\n",
    "#         y_ls = np.flip(y_ls)\n",
    "#         x_ls = L - np.flip(x_ls)\n",
    "#         M_ls = np.flip(M_ls)\n",
    "#         xF = L - xF\n",
    "#         yF = y_interp(xF)\n",
    "        \n",
    "        # Normalize the magnitude of deflection\n",
    "        y_ls = y_ls / np.max(y_ls)\n",
    "\n",
    "        # Plot profile\n",
    "        \n",
    "        plt.figure(figsize=[5,2])\n",
    "        plt.plot(x_ls,y_ls, color='k', lw=5, zorder=2)\n",
    "        index_star = M_ls==M_ls[x_ls<xF].min()\n",
    "        plt.scatter(x_ls[index_star], y_ls[index_star], marker=\"*\",s=300, zorder=10,color=\"red\",edgecolor=\"k\")\n",
    "\n",
    "        if sigma == 2:\n",
    "            CL_plotting_freq = 10\n",
    "        if sigma == 10:\n",
    "            index_star = M_ls==M_ls[x_ls>xF].min()\n",
    "            plt.scatter(x_ls[index_star], y_ls[index_star], marker=\"*\",s=300, zorder=10,color=\"red\",edgecolor=\"k\")\n",
    "            \n",
    "            CL_plotting_freq = 2\n",
    "\n",
    "        y_interp = interp1d(x_ls,y_ls)\n",
    "        for i in range(0,len(CL_pos),CL_plotting_freq):\n",
    "            if CL_pos[i] <= x_ls[-1]:\n",
    "                plt.plot([CL_pos[i],CL_pos[i]],[0,y_interp(CL_pos[i])], color='lightgray', zorder=1)\n",
    "\n",
    "        plt.quiver(xF,y_interp(xF), 0,Fy,color='gold',scale=10,zorder=3)\n",
    "\n",
    "        plt.axhline(0,color='k', ls='--')\n",
    "        plt.axvline(0,color='k', ls='--')\n",
    "        plt.ylim(-np.max(y_ls)*0.5,np.max(y_ls)*2)\n",
    "        plt.xlim(-0.5,10.5)\n",
    "        plt.xticks(fontsize=15)\n",
    "        plt.yticks(fontsize=15)\n",
    "#         plt.fill_between(x_ls,y_ls)\n",
    "\n",
    "        plt.tight_layout()\n",
    "        if save_images:\n",
    "            plt.savefig(\"fig_outputs/profile_sigma%s_xF%s.pdf\"%(sigma,int(xF)))\n",
    "        plt.show() \n",
    "        "
   ]
  },
  {
   "cell_type": "code",
   "execution_count": 74,
   "metadata": {},
   "outputs": [
    {
     "name": "stdout",
     "output_type": "stream",
     "text": [
      "spring constant: 0.005\n"
     ]
    },
    {
     "data": {
      "image/png": "[encoded data removed]",
      "text/plain": [
       "<Figure size 360x360 with 1 Axes>"
      ]
     },
     "metadata": {
      "needs_background": "light"
     },
     "output_type": "display_data"
    },
    {
     "name": "stdout",
     "output_type": "stream",
     "text": [
      "spring constant: 0.01\n"
     ]
    },
    {
     "data": {
      "image/png": "[encoded data removed]",
      "text/plain": [
       "<Figure size 360x360 with 1 Axes>"
      ]
     },
     "metadata": {
      "needs_background": "light"
     },
     "output_type": "display_data"
    },
    {
     "name": "stdout",
     "output_type": "stream",
     "text": [
      "spring constant: 0.1\n"
     ]
    },
    {
     "data": {
      "image/png": "[encoded data removed]",
      "text/plain": [
       "<Figure size 360x360 with 1 Axes>"
      ]
     },
     "metadata": {
      "needs_background": "light"
     },
     "output_type": "display_data"
    },
    {
     "name": "stdout",
     "output_type": "stream",
     "text": [
      "spring constant: 1\n"
     ]
    },
    {
     "data": {
      "image/png": "[encoded data removed]",
      "text/plain": [
       "<Figure size 360x360 with 1 Axes>"
      ]
     },
     "metadata": {
      "needs_background": "light"
     },
     "output_type": "display_data"
    }
   ],
   "source": [
    "L_contour = 10\n",
    "Fy_ls = [0.1,0.5,1,1.5]\n",
    "xF = 7\n",
    "num_sites = 1000\n",
    "CL_tot = 100\n",
    "amp2offset = 1e6\n",
    "sigma = 3\n",
    "CL_kv_ls = [0.005,0.01,0.1,1]\n",
    "distribution = 'step'\n",
    "spacing = 'deterministic' # 'deterministic' or 'random'\n",
    "\n",
    "############################\n",
    "# GENERATE SIMULATED DATA\n",
    "# If the input conditions are not already in df, RUN simulation and append to df, else PASS \n",
    "\n",
    "sim_run = False\n",
    "for CL_kv in CL_kv_ls:\n",
    "    for Fy in Fy_ls:\n",
    "        df_found = df.loc[(df['L_contour'] == L_contour) & (df['Fy'] == Fy) & (df['xF'] == xF) & (df['num_sites'] == num_sites)\n",
    "                          & (df['CL_tot'] == CL_tot) & (df['amp2offset'] == amp2offset) & (df['sigma'] == sigma)\n",
    "                          & (df['CL_kv'] == CL_kv) & (df['distribution'] == distribution) & (df['spacing'] == spacing)]\n",
    "\n",
    "        if not df_found.empty:\n",
    "            sim_run = False\n",
    "#             print(\"Exists\")\n",
    "        elif df_found.empty:\n",
    "            sim_run = True\n",
    "            print(\"Does not exist. Running...\")\n",
    "            x_ls, y_ls, M_ls, Ky, fCLy, slope_ls, CL_pos, Fy_sim, Ry_sim, theta0_sim = CL_simulation(Fy, xF, L_contour, num_sites, CL_tot,\n",
    "                                                                                                     amp2offset, sigma, CL_kv, distribution, spacing)\n",
    "            print(Fy_sim,xF)\n",
    "        if sim_run:\n",
    "            df_new = df_new.append({'L_contour':L_contour,'Fy':Fy,'xF':xF,'num_sites':num_sites,\n",
    "                                    'CL_tot':CL_tot,'amp2offset': amp2offset,'sigma': sigma,'CL_kv': CL_kv,\n",
    "                                    'distribution': distribution,'spacing':spacing,\n",
    "                                    'x_vals':x_ls,'y_vals':y_ls,'M_vals':M_ls,'Ky_val':Ky,'fCLy_val': -fCLy,\n",
    "                                    'slope_vals':slope_ls,'CL_pos_vals':CL_pos, 'Fy_val':Fy_sim, 'Ry_val':Ry_sim, \n",
    "                                    'theta0_val':theta0_sim},ignore_index=True)    \n",
    "\n",
    "df_new = df_new.drop_duplicates([\"L_contour\", \"Fy\", \"xF\", \"num_sites\", \"CL_tot\", \"amp2offset\",\n",
    "                               \"sigma\", \"CL_kv\", \"distribution\", \"spacing\"], ignore_index=True)\n",
    "\n",
    "df = df.append(df_new, ignore_index=True)\n",
    "df.to_pickle(\"discreteCL_modeling.pkl\")\n",
    "\n",
    "\n",
    "############################\n",
    "# PLOT RESULTS\n",
    "\n",
    "x_star_arrays = []\n",
    "\n",
    "for i,CL_kv in enumerate(CL_kv_ls):\n",
    "    plt.figure(figsize=(5,5))\n",
    "    print(\"spring constant:\", CL_kv)\n",
    "    for n,Fy in enumerate(Fy_ls):\n",
    "        df_found = df.loc[(df['L_contour'] == L_contour) & (df['Fy'] == Fy) & (df['xF'] == xF) & (df['num_sites'] == num_sites) \n",
    "                          & (df['CL_tot'] == CL_tot) & (df['amp2offset'] == amp2offset) & (df['sigma'] == sigma)\n",
    "                          & (df['CL_kv'] == CL_kv) & (df['distribution'] == distribution) & (df['spacing'] == spacing)]\n",
    "        M_ls = df_found[\"M_vals\"].values[0]\n",
    "        Fy = df_found[\"Fy_val\"].values[0]\n",
    "\n",
    "        index_star = np.where(M_ls==M_ls[x_ls<xF].min())[0][0]\n",
    "        y_interp = interp1d(x_ls,y_ls)\n",
    "        xF = xF\n",
    "        yF = y_interp(xF)\n",
    "        M_star = M_ls[index_star]\n",
    "        \n",
    "        plt.scatter(M_star,Fy, color='k')\n",
    "    plt.xlabel(\"curvature minima\")\n",
    "    plt.ylabel(\"microneedle force\")\n",
    "# plt.xlim(0,9)\n",
    "    plt.xlim(-0.6,0)\n",
    "    plt.xticks(fontsize=10)\n",
    "    plt.yticks(fontsize=10)\n",
    "# plt.axhline(1,color='gray',ls='--', lw=2)\n",
    "# plt.axhline(3,color='gray',ls='--', lw=2)\n",
    "    plt.tight_layout()\n",
    "# if save_images:\n",
    "#     plt.savefig(\"fig_outputs/PRC1_gauss.pdf\")\n",
    "    plt.show()\n",
    "    \n",
    "    "
   ]
  },
  {
   "cell_type": "code",
   "execution_count": null,
   "metadata": {},
   "outputs": [],
   "source": []
  },
  {
   "cell_type": "code",
   "execution_count": null,
   "metadata": {},
   "outputs": [],
   "source": []
  },
  {
   "cell_type": "code",
   "execution_count": 47,
   "metadata": {},
   "outputs": [
    {
     "data": {
      "image/png": "[encoded data removed]",
      "text/plain": [
       "<Figure size 252x216 with 1 Axes>"
      ]
     },
     "metadata": {
      "needs_background": "light"
     },
     "output_type": "display_data"
    },
    {
     "data": {
      "image/png": "[encoded data removed]",
      "text/plain": [
       "<Figure size 252x216 with 1 Axes>"
      ]
     },
     "metadata": {
      "needs_background": "light"
     },
     "output_type": "display_data"
    }
   ],
   "source": [
    "def eta_gauss(x, offset,amplitude, sigma):\n",
    "    return offset+amplitude*np.exp(-x**2/(2*sigma**2))\n",
    "\n",
    "def eta_step(x, offset,amplitude, sigma):\n",
    "    if x < sigma:\n",
    "        return amplitude+ offset\n",
    "    elif x >= sigma:\n",
    "        return offset\n",
    "\n",
    "L_contour = 10\n",
    "Fy = 1\n",
    "num_sites = 1000\n",
    "CL_tot = 100\n",
    "amp2offset_ls = [0.75]\n",
    "CL_kv = 0.1\n",
    "spacing = 'deterministic' # 'deterministic' or 'random'\n",
    "\n",
    "sigma = 2.5\n",
    "for amp2offset in amp2offset_ls:\n",
    "    plt.figure(figsize=(3.5,3))\n",
    "    x_ls = np.linspace(0,10,100)\n",
    "    y_ls = []\n",
    "    L = 10\n",
    "    offset = (1/L) + (amp2offset*sigma)\n",
    "    amplitude = amp2offset*offset\n",
    "\n",
    "    for x in x_ls:\n",
    "        y_ls.append(eta_gauss(x,offset,amplitude, sigma))\n",
    "    \n",
    "    plt.plot(x_ls,y_ls,lw=2,color='green')\n",
    "    plt.fill_between(x_ls,y_ls,color='green',alpha=0.2)\n",
    "    plt.xlim(0,10)\n",
    "    plt.yticks([0,1.99,3.4],[0,0.6,1],fontsize=12)\n",
    "    plt.ylim(0.0,3.6)\n",
    "    plt.gca().invert_xaxis()\n",
    "    plt.xticks([10,0],[0,10],fontsize=12)\n",
    "    plt.tight_layout()\n",
    "    plt.savefig(\"fig_outputs/PRC1sigma_gauss.pdf\")\n",
    "    plt.show()\n",
    "\n",
    "sigma = 3\n",
    "for amp2offset in amp2offset_ls:\n",
    "    plt.figure(figsize=(3.5,3))\n",
    "    x_ls = np.linspace(0,10,100)\n",
    "    y_ls = []\n",
    "    L = 10\n",
    "    offset = (1/L) + (amp2offset*sigma)\n",
    "    amplitude = amp2offset*offset\n",
    "\n",
    "    for x in x_ls:\n",
    "        y_ls.append(eta_step(x,offset,amplitude, sigma))\n",
    "    \n",
    "    plt.plot(x_ls,y_ls,lw=2,color='green')\n",
    "    plt.fill_between(x_ls,y_ls,color='green',alpha=0.2)\n",
    "    plt.xlim(0,10)\n",
    "    plt.yticks([0,2.34,4.1],[0,0.6,1],fontsize=12)\n",
    "    plt.ylim(0.0,4.3)\n",
    "    plt.gca().invert_xaxis()\n",
    "    plt.xticks([10,0],[0,10],fontsize=12)\n",
    "    plt.tight_layout()\n",
    "    plt.savefig(\"fig_outputs/PRC1sigma_step.pdf\")\n",
    "    plt.show()\n",
    "    "
   ]
  },
  {
   "cell_type": "code",
   "execution_count": 19,
   "metadata": {},
   "outputs": [
    {
     "data": {
      "image/png": "[encoded data removed]",
      "text/plain": [
       "<Figure size 288x216 with 1 Axes>"
      ]
     },
     "metadata": {
      "needs_background": "light"
     },
     "output_type": "display_data"
    }
   ],
   "source": [
    "\n",
    "L_contour = 10\n",
    "Fy = 1\n",
    "num_sites = 1000\n",
    "CL_tot = 100\n",
    "amp2offset_ls = [1e10]\n",
    "CL_kv = 0.1\n",
    "spacing = 'deterministic' # 'deterministic' or 'random'\n",
    "\n",
    "\n",
    "sigma = 4\n",
    "for amp2offset in amp2offset_ls:\n",
    "    plt.figure(figsize=(4,3))\n",
    "    x_ls = np.linspace(0,10,100)\n",
    "    y_ls = []\n",
    "    L = 10\n",
    "    offset = (1/L) + (amp2offset*sigma)\n",
    "    amplitude = amp2offset*offset\n",
    "\n",
    "    for x in x_ls:\n",
    "        y_ls.append(eta_step(x,offset,amplitude, sigma))\n",
    "    \n",
    "    plt.plot(x_ls,y_ls,lw=2,color='green')\n",
    "    plt.fill_between(x_ls,y_ls,color='green',alpha=0.2)\n",
    "    plt.xlim(0,10)\n",
    "    plt.yticks([0],[0],fontsize=12)\n",
    "#     plt.yticks([],fontsize=12)\n",
    "#     plt.ylim(0,5)\n",
    "    plt.gca().invert_xaxis()\n",
    "    plt.xticks([10,0],[0,10],fontsize=12)\n",
    "    plt.tight_layout()\n",
    "    plt.savefig(\"fig_outputs/sigma_plot.pdf\")\n",
    "    plt.show()\n",
    "    "
   ]
  },
  {
   "cell_type": "code",
   "execution_count": null,
   "metadata": {},
   "outputs": [],
   "source": []
  },
  {
   "cell_type": "code",
   "execution_count": null,
   "metadata": {},
   "outputs": [],
   "source": []
  }
 ],
 "metadata": {
  "kernelspec": {
   "display_name": "Python 3",
   "language": "python",
   "name": "python3"
  },
  "language_info": {
   "codemirror_mode": {
    "name": "ipython",
    "version": 3
   },
   "file_extension": ".py",
   "mimetype": "text/x-python",
   "name": "python",
   "nbconvert_exporter": "python",
   "pygments_lexer": "ipython3",
   "version": "3.7.7"
  }
 },
 "nbformat": 4,
 "nbformat_minor": 4
}
